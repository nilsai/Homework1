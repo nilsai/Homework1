{
 "cells": [
  {
   "cell_type": "code",
   "execution_count": 6,
   "metadata": {},
   "outputs": [],
   "source": [
    "import pandas as pd\n",
    "\n",
    "sozluk = {\n",
    "\"Kategori\": [\"Giyim\",\"Giyim\", \"Ayakkabı\",\"Aksesuar\",\"Ayakkabı\",\"Giyim\",\"Aksesuar\",\"Aksesuar\",\"Ayakkabı\",\"Giyim\"],\n",
    "\n",
    "\n",
    "  \"Ürün\" : [\n",
    "    \"Kazak\",\"T-shirt\",\"Sandalet\",\"Küpe\",\"Spor Ayakkabı\",\"Pantolon\",\"Kolye\",\"Yüzük\",\"Çizme\",\"Ceket\"\n",
    "    ],\n",
    "\n",
    "\n",
    "\"Fiyat\" : [300,180,450,50,700,400,150,80,850,900]\n",
    "}"
   ]
  },
  {
   "cell_type": "code",
   "execution_count": 7,
   "metadata": {},
   "outputs": [
    {
     "name": "stdout",
     "output_type": "stream",
     "text": [
      "   Kategori           Ürün  Fiyat\n",
      "0     Giyim          Kazak    300\n",
      "1     Giyim        T-shirt    180\n",
      "2  Ayakkabı       Sandalet    450\n",
      "3  Aksesuar           Küpe     50\n",
      "4  Ayakkabı  Spor Ayakkabı    700\n",
      "5     Giyim       Pantolon    400\n",
      "6  Aksesuar          Kolye    150\n",
      "7  Aksesuar          Yüzük     80\n",
      "8  Ayakkabı          Çizme    850\n",
      "9     Giyim          Ceket    900\n"
     ]
    }
   ],
   "source": [
    "df = pd.DataFrame(data=sozluk)\n",
    "print(df)"
   ]
  },
  {
   "cell_type": "code",
   "execution_count": 8,
   "metadata": {},
   "outputs": [
    {
     "name": "stdout",
     "output_type": "stream",
     "text": [
      "2. index: Ayakkabı\n"
     ]
    }
   ],
   "source": [
    "print(\"2. index:\", df.loc[2, \"Kategori\"])"
   ]
  },
  {
   "cell_type": "code",
   "execution_count": 9,
   "metadata": {},
   "outputs": [
    {
     "name": "stdout",
     "output_type": "stream",
     "text": [
      "2. index: Sandalet\n"
     ]
    }
   ],
   "source": [
    "print(\"2. index:\", df.loc[2, \"Ürün\"],)"
   ]
  },
  {
   "cell_type": "code",
   "execution_count": 10,
   "metadata": {},
   "outputs": [
    {
     "name": "stdout",
     "output_type": "stream",
     "text": [
      "4-9 index:\n",
      "    Kategori           Ürün  Fiyat\n",
      "4  Ayakkabı  Spor Ayakkabı    700\n",
      "5     Giyim       Pantolon    400\n",
      "6  Aksesuar          Kolye    150\n",
      "7  Aksesuar          Yüzük     80\n",
      "8  Ayakkabı          Çizme    850\n",
      "9     Giyim          Ceket    900 \n",
      "\n"
     ]
    }
   ],
   "source": [
    "print(\"4-9 index:\\n\", df.loc[4:9], \"\\n\")"
   ]
  },
  {
   "cell_type": "code",
   "execution_count": 11,
   "metadata": {},
   "outputs": [
    {
     "name": "stdout",
     "output_type": "stream",
     "text": [
      "1-6 index:\n",
      " 1          T-shirt\n",
      "2         Sandalet\n",
      "3             Küpe\n",
      "4    Spor Ayakkabı\n",
      "5         Pantolon\n",
      "6            Kolye\n",
      "Name: Ürün, dtype: object \n",
      "\n"
     ]
    }
   ],
   "source": [
    "print(\"1-6 index:\\n\", df.loc[1:6, \"Ürün\"], \"\\n\")"
   ]
  },
  {
   "cell_type": "code",
   "execution_count": 12,
   "metadata": {},
   "outputs": [
    {
     "name": "stdout",
     "output_type": "stream",
     "text": [
      "Giyim ürünleri:\n",
      "  Kategori      Ürün  Fiyat\n",
      "0    Giyim     Kazak    300\n",
      "1    Giyim   T-shirt    180\n",
      "5    Giyim  Pantolon    400\n",
      "9    Giyim     Ceket    900\n"
     ]
    }
   ],
   "source": [
    "print(\"Giyim ürünleri:\")\n",
    "print(df[df[\"Kategori\"] == \"Giyim\"])\n"
   ]
  },
  {
   "cell_type": "code",
   "execution_count": 13,
   "metadata": {},
   "outputs": [
    {
     "name": "stdout",
     "output_type": "stream",
     "text": [
      "Ayakkabı ürünleri:\n",
      "   Kategori           Ürün  Fiyat\n",
      "2  Ayakkabı       Sandalet    450\n",
      "4  Ayakkabı  Spor Ayakkabı    700\n",
      "8  Ayakkabı          Çizme    850\n"
     ]
    }
   ],
   "source": [
    "print(\"Ayakkabı ürünleri:\")\n",
    "print(df[df[\"Kategori\"] == \"Ayakkabı\"])\n"
   ]
  },
  {
   "cell_type": "code",
   "execution_count": 14,
   "metadata": {},
   "outputs": [
    {
     "name": "stdout",
     "output_type": "stream",
     "text": [
      "Aksesuar ürünleri:\n",
      "   Kategori   Ürün  Fiyat\n",
      "3  Aksesuar   Küpe     50\n",
      "6  Aksesuar  Kolye    150\n",
      "7  Aksesuar  Yüzük     80\n"
     ]
    }
   ],
   "source": [
    "print(\"Aksesuar ürünleri:\")\n",
    "print(df[df[\"Kategori\"] == \"Aksesuar\"])\n"
   ]
  },
  {
   "cell_type": "code",
   "execution_count": 16,
   "metadata": {},
   "outputs": [
    {
     "name": "stdout",
     "output_type": "stream",
     "text": [
      "\n",
      "Giyim kategorisinde fiyatı 300'den fazla olan ürünler:\n",
      "Kategori       Giyim\n",
      "Ürün        Pantolon\n",
      "Fiyat            400\n",
      "Name: 5, dtype: object\n",
      "Kategori    Giyim\n",
      "Ürün        Ceket\n",
      "Fiyat         900\n",
      "Name: 9, dtype: object\n",
      "\n",
      "Ayakkabı kategorisinde fiyatı 600'den az olan ürünler:\n",
      "Kategori    Ayakkabı\n",
      "Ürün        Sandalet\n",
      "Fiyat            450\n",
      "Name: 2, dtype: object\n",
      "\n",
      "Aksesuar kategorisinde fiyatı 100'den fazla olan aksesuarlar:\n",
      "Kategori    Aksesuar\n",
      "Ürün           Kolye\n",
      "Fiyat            150\n",
      "Name: 6, dtype: object\n"
     ]
    }
   ],
   "source": [
    "print(\"\\nGiyim kategorisinde fiyatı 300'den fazla olan ürünler:\")\n",
    "for index in range(len(df)):\n",
    "    if df.loc[index, 'Kategori'] == 'Giyim' and df.loc[index, 'Fiyat'] > 300:\n",
    "        print(df.loc[index])\n",
    "\n",
    "print(\"\\nAyakkabı kategorisinde fiyatı 600'den az olan ürünler:\")\n",
    "for index in range(len(df)):\n",
    "    if df.loc[index, 'Kategori'] == 'Ayakkabı' and df.loc[index, 'Fiyat'] < 600:\n",
    "        print(df.loc[index])\n",
    "\n",
    "print(\"\\nAksesuar kategorisinde fiyatı 100'den fazla olan aksesuarlar:\")\n",
    "for index in range(len(df)):\n",
    "    if df.loc[index, 'Kategori'] == 'Aksesuar' and df.loc[index, 'Fiyat'] > 100:\n",
    "        print(df.loc[index])"
   ]
  }
 ],
 "metadata": {
  "kernelspec": {
   "display_name": "Python 3",
   "language": "python",
   "name": "python3"
  },
  "language_info": {
   "codemirror_mode": {
    "name": "ipython",
    "version": 3
   },
   "file_extension": ".py",
   "mimetype": "text/x-python",
   "name": "python",
   "nbconvert_exporter": "python",
   "pygments_lexer": "ipython3",
   "version": "3.11.9"
  }
 },
 "nbformat": 4,
 "nbformat_minor": 2
}
