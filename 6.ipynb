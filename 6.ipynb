{
 "cells": [
  {
   "cell_type": "code",
   "execution_count": 6,
   "metadata": {},
   "outputs": [
    {
     "name": "stdout",
     "output_type": "stream",
     "text": [
      "Bir boyutlu array: [1 2 3 4 5]\n",
      "Boyut: 1\n",
      "Eleman sayısı: 5\n",
      "Şekil (shape): (5,)\n",
      "\n"
     ]
    }
   ],
   "source": [
    "import numpy as np\n",
    "\n",
    "array_1boyut = np.array([1, 2, 3, 4, 5], dtype=int)\n",
    "print(\"Bir boyutlu array:\", array_1boyut)\n",
    "print(\"Boyut:\", array_1boyut.ndim)\n",
    "print(\"Eleman sayısı:\", array_1boyut.size)\n",
    "print(\"Şekil (shape):\", array_1boyut.shape)\n",
    "print()"
   ]
  },
  {
   "cell_type": "code",
   "execution_count": 7,
   "metadata": {},
   "outputs": [
    {
     "name": "stdout",
     "output_type": "stream",
     "text": [
      "İki boyutlu array:\n",
      " [[1 2 3]\n",
      " [4 5 6]]\n",
      "Boyut: 2\n",
      "Eleman sayısı: 6\n",
      "Şekil (shape): (2, 3)\n",
      "Satır sayısı: 2\n",
      "Sütun sayısı: 3\n",
      "\n"
     ]
    }
   ],
   "source": [
    "array_2boyut = np.array([[1, 2, 3], [4, 5, 6]], dtype=int)\n",
    "print(\"İki boyutlu array:\\n\", array_2boyut)\n",
    "print(\"Boyut:\", array_2boyut.ndim)\n",
    "print(\"Eleman sayısı:\", array_2boyut.size)\n",
    "print(\"Şekil (shape):\", array_2boyut.shape)\n",
    "print(\"Satır sayısı:\", array_2boyut.shape[0])\n",
    "print(\"Sütun sayısı:\", array_2boyut.shape[1])\n",
    "print()"
   ]
  },
  {
   "cell_type": "code",
   "execution_count": 8,
   "metadata": {},
   "outputs": [
    {
     "name": "stdout",
     "output_type": "stream",
     "text": [
      "Üç boyutlu array:\n",
      " [[[1 2]\n",
      "  [3 4]]\n",
      "\n",
      " [[5 6]\n",
      "  [7 8]]]\n",
      "Boyut: 3\n",
      "Eleman: 8\n",
      "Şekil: (2, 2, 2)\n",
      "Katman: 2\n",
      "Satır: 2\n",
      "Sütun: 2\n",
      "\n"
     ]
    }
   ],
   "source": [
    "array_3boyut = np.array([[[1, 2], [3, 4]], [[5, 6], [7, 8]]], dtype=int)\n",
    "print(\"Üç boyutlu array:\\n\", array_3boyut)\n",
    "print(\"Boyut:\", array_3boyut.ndim)\n",
    "print(\"Eleman:\", array_3boyut.size)\n",
    "print(\"Şekil:\", array_3boyut.shape)\n",
    "print(\"Katman:\", array_3boyut.shape[0])\n",
    "print(\"Satır:\", array_3boyut.shape[1])\n",
    "print(\"Sütun:\", array_3boyut.shape[2])\n",
    "print()"
   ]
  },
  {
   "cell_type": "code",
   "execution_count": 9,
   "metadata": {},
   "outputs": [
    {
     "name": "stdout",
     "output_type": "stream",
     "text": [
      "İki boyutlu arrayde 1. satır: [1 2 3]\n",
      "İki boyutlu arrayde [1,1] indexindeki eleman: 5\n",
      "İki boyutlu arrayin ilk iki sütunu:\n",
      " [[1 2]\n",
      " [4 5]]\n",
      "\n",
      "Üç boyutlu arrayin ilk katmanı:\n",
      " [[1 2]\n",
      " [3 4]]\n",
      "Üç boyutlu arrayin [1,0,1] indexindeki eleman: 6\n",
      "\n"
     ]
    }
   ],
   "source": [
    "print(\"İki boyutlu arrayde 1. satır:\", array_2boyut[0]) \n",
    "print(\"İki boyutlu arrayde [1,1] indexindeki eleman:\", array_2boyut[1, 1])\n",
    "print(\"İki boyutlu arrayin ilk iki sütunu:\\n\", array_2boyut[:, :2])\n",
    "print()\n",
    "\n",
    "print(\"Üç boyutlu arrayin ilk katmanı:\\n\", array_3boyut[0])  \n",
    "print(\"Üç boyutlu arrayin [1,0,1] indexindeki eleman:\", array_3boyut[1, 0, 1])\n",
    "print()"
   ]
  },
  {
   "cell_type": "code",
   "execution_count": 10,
   "metadata": {},
   "outputs": [
    {
     "name": "stdout",
     "output_type": "stream",
     "text": [
      "Sıfır array:\n",
      " [[0 0 0]\n",
      " [0 0 0]]\n",
      "Bir array:\n",
      " [[1 1 1]\n",
      " [1 1 1]]\n",
      "\n",
      "Satır birleştir:\n",
      " [[0 0 0]\n",
      " [0 0 0]\n",
      " [1 1 1]\n",
      " [1 1 1]]\n",
      "Sütun birleştir:\n",
      " [[0 0 0 1 1 1]\n",
      " [0 0 0 1 1 1]]\n"
     ]
    }
   ],
   "source": [
    "zeros_array = np.zeros((2, 3), dtype=int)\n",
    "ones_array = np.ones((2, 3), dtype=int)\n",
    "\n",
    "print(\"Sıfır array:\\n\", zeros_array)\n",
    "print(\"Bir array:\\n\", ones_array)\n",
    "print()\n",
    "\n",
    "satir= np.vstack((zeros_array, ones_array)) \n",
    "sutun= np.hstack((zeros_array, ones_array))  \n",
    "\n",
    "print(\"Satır birleştir:\\n\", satir)\n",
    "print(\"Sütun birleştir:\\n\", sutun)"
   ]
  }
 ],
 "metadata": {
  "kernelspec": {
   "display_name": "Python 3",
   "language": "python",
   "name": "python3"
  },
  "language_info": {
   "codemirror_mode": {
    "name": "ipython",
    "version": 3
   },
   "file_extension": ".py",
   "mimetype": "text/x-python",
   "name": "python",
   "nbconvert_exporter": "python",
   "pygments_lexer": "ipython3",
   "version": "3.11.9"
  }
 },
 "nbformat": 4,
 "nbformat_minor": 2
}
