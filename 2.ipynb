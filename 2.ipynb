{
 "cells": [
  {
   "cell_type": "code",
   "execution_count": 4,
   "metadata": {},
   "outputs": [
    {
     "name": "stdout",
     "output_type": "stream",
     "text": [
      "Vergi oranı: %25.0\n",
      "Vergi miktarı: 10000.0 TL\n",
      "Yeni maaşınız: 30000.0 TL\n"
     ]
    }
   ],
   "source": [
    "maas = float(input(\"Lütfen maaşınızı giriniz: \"))\n",
    "\n",
    "if maas <= 10000:\n",
    "    vergi_orani = 0.05\n",
    "elif maas <= 25000:\n",
    "    vergi_orani = 0.10\n",
    "elif maas <= 45000:\n",
    "    vergi_orani = 0.25\n",
    "else:\n",
    "    vergi_orani = 0.30\n",
    "\n",
    "vergi_miktari = maas * vergi_orani\n",
    "yeni_maas = maas - vergi_miktari\n",
    "\n",
    "print(f\"Vergi oranı: %{vergi_orani * 100}\")\n",
    "print(f\"Vergi miktarı: {vergi_miktari} TL\")\n",
    "print(f\"Yeni maaşınız: {yeni_maas} TL\")\n"
   ]
  },
  {
   "cell_type": "code",
   "execution_count": 5,
   "metadata": {},
   "outputs": [
    {
     "name": "stdout",
     "output_type": "stream",
     "text": [
      "Hesabınız oluşturuldu.\n"
     ]
    }
   ],
   "source": [
    "kullanici_adi = input(\"Kullanıcı adınızı oluşturun: \")\n",
    "sifre = input(\"Şifrenizi oluşturun: \")\n",
    "\n",
    "# Şifre uzunluğu kontrol ediliyor\n",
    "if len(sifre) >= 6:\n",
    "    print(\"Hesabınız oluşturuldu.\")\n",
    "else:\n",
    "    print(\"Lütfen en az 6 haneli bir şifre oluşturun!\")\n"
   ]
  },
  {
   "cell_type": "code",
   "execution_count": 6,
   "metadata": {},
   "outputs": [
    {
     "name": "stdout",
     "output_type": "stream",
     "text": [
      "Hesabınız oluşturuldu.\n"
     ]
    }
   ],
   "source": [
    "while True:\n",
    "    sifre = input(\"Şifrenizi oluşturun (5 ile 10 hane arasında olmalı): \")\n",
    "    \n",
    "    if 5 <= len(sifre) <= 10:\n",
    "        print(\"Hesabınız oluşturuldu.\")\n",
    "        break\n",
    "    else:\n",
    "        print(\"Lütfen şifreniz 5 haneden az, 10 haneden fazla olmasın!\")\n"
   ]
  },
  {
   "cell_type": "code",
   "execution_count": 8,
   "metadata": {},
   "outputs": [
    {
     "name": "stdout",
     "output_type": "stream",
     "text": [
      "Yanlış şifre girildi! Kalan hakkınız: 2\n",
      "Yanlış şifre girildi! Kalan hakkınız: 1\n",
      "Yanlış şifre girildi! Kalan hakkınız: 0\n",
      "3 yanlış giriş yaptınız, program sonlandırılıyor.\n"
     ]
    }
   ],
   "source": [
    "dogru_sifre = \"123456\"\n",
    "hak = 3  \n",
    "\n",
    "while hak > 0:\n",
    "    girilen_sifre = input(\"Şifrenizi girin: \")\n",
    "    \n",
    "    if girilen_sifre == dogru_sifre:\n",
    "        print(\"Giriş yapıldı.\")\n",
    "        break\n",
    "    else:\n",
    "        hak -= 1\n",
    "        print(f\"Yanlış şifre girildi! Kalan hakkınız: {hak}\")\n",
    "        \n",
    "        if hak == 0:\n",
    "            print(\"3 yanlış giriş yaptınız, program sonlandırılıyor.\")\n"
   ]
  }
 ],
 "metadata": {
  "kernelspec": {
   "display_name": "Python 3",
   "language": "python",
   "name": "python3"
  },
  "language_info": {
   "codemirror_mode": {
    "name": "ipython",
    "version": 3
   },
   "file_extension": ".py",
   "mimetype": "text/x-python",
   "name": "python",
   "nbconvert_exporter": "python",
   "pygments_lexer": "ipython3",
   "version": "3.11.9"
  }
 },
 "nbformat": 4,
 "nbformat_minor": 2
}
