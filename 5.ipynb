{
 "cells": [
  {
   "cell_type": "code",
   "execution_count": 3,
   "metadata": {},
   "outputs": [
    {
     "name": "stdout",
     "output_type": "stream",
     "text": [
      "\n",
      "1. Not sorgula\n",
      "2. Not ekle/güncelle\n",
      "3. Tüm notları göster\n",
      "4. Çıkış\n",
      "Umut adlı öğrencinin Fizik notu güncellendi.\n",
      "\n",
      "1. Not sorgula\n",
      "2. Not ekle/güncelle\n",
      "3. Tüm notları göster\n",
      "4. Çıkış\n",
      "Programdan çıkılıyor...\n"
     ]
    }
   ],
   "source": [
    "ogrenciler = {\n",
    "    \"Berk\": {\"Matematik\": 85, \"Fizik\": 78, \"Kimya\": 92},\n",
    "    \"Sude\": {\"Matematik\": 90, \"Fizik\": 82, \"Kimya\": 88},\n",
    "    \"Umut\": {\"Matematik\": 76, \"Fizik\": 89, \"Kimya\": 85},\n",
    "}\n",
    "\n",
    "def bilgi_al():\n",
    "    isim = input(\"Öğrencinin ismini girin: \")\n",
    "    ders = input(\"Ders ismini girin (Matematik, Fizik, Kimya): \")\n",
    "    \n",
    "    if isim in ogrenciler and ders in ogrenciler[isim]:\n",
    "        print(f\"{isim} adlı öğrencinin {ders} notu: {ogrenciler[isim][ders]}\")\n",
    "    else:\n",
    "        print(\"Geçersiz isim veya ders bilgisi!\")\n",
    "\n",
    "def not_ekle_guncelle():\n",
    "    isim = input(\"Öğrencinin ismini girin: \")\n",
    "    ders = input(\"Ders ismini girin (Matematik, Fizik, Kimya): \")\n",
    "    yeni_not = int(input(\"Yeni notu girin: \"))\n",
    "    \n",
    "    if isim in ogrenciler:\n",
    "        ogrenciler[isim][ders] = yeni_not\n",
    "        print(f\"{isim} adlı öğrencinin {ders} notu güncellendi.\")\n",
    "    else:\n",
    "        ogrenciler[isim] = {ders: yeni_not}\n",
    "        print(f\"{isim} adlı öğrenci eklendi ve {ders} notu kaydedildi.\")\n",
    "\n",
    "def menu():\n",
    "    while True:\n",
    "        print(\"\\n1. Not sorgula\")\n",
    "        print(\"2. Not ekle/güncelle\")\n",
    "        print(\"3. Tüm notları göster\")\n",
    "        print(\"4. Çıkış\")\n",
    "        secim = input(\"Seçiminizi yapın (1-4): \")\n",
    "\n",
    "        if secim == \"1\":\n",
    "            bilgi_al()\n",
    "        elif secim == \"2\":\n",
    "            not_ekle_guncelle()\n",
    "        elif secim == \"3\":\n",
    "            print(\"\\nTüm Öğrenciler ve Notları:\")\n",
    "            for isim, dersler in ogrenciler.items():\n",
    "                print(f\"{isim}: {dersler}\")\n",
    "        elif secim == \"4\":\n",
    "            print(\"Programdan çıkılıyor...\")\n",
    "            break\n",
    "        else:\n",
    "            print(\"Geçersiz seçim, lütfen tekrar deneyin!\")\n",
    "\n",
    "menu()\n"
   ]
  }
 ],
 "metadata": {
  "kernelspec": {
   "display_name": "Python 3",
   "language": "python",
   "name": "python3"
  },
  "language_info": {
   "codemirror_mode": {
    "name": "ipython",
    "version": 3
   },
   "file_extension": ".py",
   "mimetype": "text/x-python",
   "name": "python",
   "nbconvert_exporter": "python",
   "pygments_lexer": "ipython3",
   "version": "3.11.9"
  }
 },
 "nbformat": 4,
 "nbformat_minor": 2
}
