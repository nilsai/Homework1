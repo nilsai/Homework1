{
 "cells": [
  {
   "cell_type": "code",
   "execution_count": 1,
   "metadata": {},
   "outputs": [
    {
     "name": "stdout",
     "output_type": "stream",
     "text": [
      "Dairenin alanı: 48.0\n"
     ]
    }
   ],
   "source": [
    "def daire_alani(pi, yaricap):\n",
    "    alan = pi * (yaricap ** 2)\n",
    "    return alan\n",
    "\n",
    "pi = float(input(\"Pi değerini giriniz: \"))\n",
    "yaricap = float(input(\"Yarıçapı giriniz: \"))\n",
    "\n",
    "alan = daire_alani(pi, yaricap)\n",
    "print(f\"Dairenin alanı: {alan}\")\n"
   ]
  },
  {
   "cell_type": "code",
   "execution_count": 2,
   "metadata": {},
   "outputs": [
    {
     "name": "stdout",
     "output_type": "stream",
     "text": [
      "Girdiğiniz sayının faktöriyeli: 120\n"
     ]
    }
   ],
   "source": [
    "def faktoriyel(sayi):\n",
    "    sonuc = 1\n",
    "    for i in range(1, sayi + 1):\n",
    "        sonuc *= i\n",
    "    return sonuc\n",
    "\n",
    "sayi = int(input(\"Bir sayı giriniz: \"))\n",
    "\n",
    "faktoriyel_sonucu = faktoriyel(sayi)\n",
    "print(\"Girdiğiniz sayının faktöriyeli: {}\".format(faktoriyel_sonucu))\n"
   ]
  },
  {
   "cell_type": "code",
   "execution_count": 3,
   "metadata": {},
   "outputs": [
    {
     "name": "stdout",
     "output_type": "stream",
     "text": [
      "Yaşınız: 23\n"
     ]
    }
   ],
   "source": [
    "def yas_hesapla(dogum_yili):\n",
    "    mevcut_yil = 2024\n",
    "    yas = mevcut_yil - dogum_yili\n",
    "    return yas\n",
    "\n",
    "dogum_yili = int(input(\"Doğum yılınızı giriniz: \"))\n",
    "\n",
    "yas = yas_hesapla(dogum_yili)\n",
    "print(f\"Yaşınız: {yas}\")\n"
   ]
  },
  {
   "cell_type": "code",
   "execution_count": 4,
   "metadata": {},
   "outputs": [
    {
     "name": "stdout",
     "output_type": "stream",
     "text": [
      "Nisa, emekliliğinize 42 yıl kaldı.\n"
     ]
    }
   ],
   "source": [
    "def yas_hesapla(dogum_yili):\n",
    "    mevcut_yil = 2024  \n",
    "    yas = mevcut_yil - dogum_yili\n",
    "    return yas\n",
    "\n",
    "def emeklilik_durumu(dogum_yili, isim):\n",
    "    yas = yas_hesapla(dogum_yili)\n",
    "    \n",
    "    if yas >= 65:\n",
    "        print(f\"{isim}, emekli oldunuz.\")\n",
    "    else:\n",
    "        kalan_yil = 65 - yas\n",
    "        print(f\"{isim}, emekliliğinize {kalan_yil} yıl kaldı.\")\n",
    "\n",
    "dogum_yili = int(input(\"Doğum yılınızı giriniz: \"))\n",
    "isim = input(\"Adınızı giriniz: \")\n",
    "\n",
    "emeklilik_durumu(dogum_yili, isim)\n"
   ]
  }
 ],
 "metadata": {
  "kernelspec": {
   "display_name": "Python 3",
   "language": "python",
   "name": "python3"
  },
  "language_info": {
   "codemirror_mode": {
    "name": "ipython",
    "version": 3
   },
   "file_extension": ".py",
   "mimetype": "text/x-python",
   "name": "python",
   "nbconvert_exporter": "python",
   "pygments_lexer": "ipython3",
   "version": "3.11.9"
  }
 },
 "nbformat": 4,
 "nbformat_minor": 2
}
